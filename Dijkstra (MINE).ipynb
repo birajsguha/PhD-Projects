{
 "cells": [
  {
   "cell_type": "code",
   "execution_count": 1,
   "metadata": {},
   "outputs": [],
   "source": [
    "import numpy as np\n",
    "import math"
   ]
  },
  {
   "cell_type": "markdown",
   "metadata": {},
   "source": [
    "**Matrix Description:**\n",
    "\n",
    "$(i,j)$-th entry denotes the cost of moving from node $i$ to node $j$. Target is to move from the *first* node to the *last* node.\n",
    "\n",
    "My fuction **dijkstra(M)** takes as input a square matrix any size."
   ]
  },
  {
   "cell_type": "code",
   "execution_count": 2,
   "metadata": {},
   "outputs": [],
   "source": [
    "def dijkstra(M):\n",
    "    path=[0]\n",
    "    n=len(M)\n",
    "    w=[0]\n",
    "    w.extend([math.inf for i in range(n-1)])\n",
    "    current=0\n",
    "    tmp=0\n",
    "    unvisited=[i+1 for i in range(n-1)]\n",
    "    while current!=n-1:\n",
    "        tmp=current\n",
    "        val=math.inf\n",
    "        ptr=0\n",
    "        for j in unvisited:\n",
    "            if M[current][j] > 0:\n",
    "                w[j]=np.min([w[j],w[current]+M[current][j]])\n",
    "                if w[j] < val:\n",
    "                    ptr=j\n",
    "                val=w[j]\n",
    "        current=ptr\n",
    "        path.append(current)\n",
    "        unvisited.remove(current)\n",
    "    path_length=w[tmp]+M[tmp][n-1]\n",
    "    print(\"Shortest Path:\", path)\n",
    "    print(\"Path Length = \",path_length)"
   ]
  },
  {
   "cell_type": "code",
   "execution_count": 3,
   "metadata": {},
   "outputs": [],
   "source": [
    "M=[[0,1,4,5],[1,0,6,2],[4,6,0,3],[5,2,3,0]]"
   ]
  },
  {
   "cell_type": "code",
   "execution_count": 4,
   "metadata": {},
   "outputs": [
    {
     "name": "stdout",
     "output_type": "stream",
     "text": [
      "Shortest Path: [0, 1, 3]\n",
      "Path Length =  3.0\n"
     ]
    }
   ],
   "source": [
    "dijkstra(M)"
   ]
  },
  {
   "cell_type": "code",
   "execution_count": 5,
   "metadata": {},
   "outputs": [
    {
     "data": {
      "text/plain": [
       "[[0, 7, 9, 0, 14, 0],\n",
       " [7, 0, 10, 15, 0, 0],\n",
       " [9, 10, 0, 11, 2, 0],\n",
       " [0, 15, 11, 0, 0, 6],\n",
       " [14, 0, 2, 0, 0, 9],\n",
       " [0, 0, 0, 6, 9, 0]]"
      ]
     },
     "execution_count": 5,
     "metadata": {},
     "output_type": "execute_result"
    }
   ],
   "source": [
    "M1=[[0,7,9,0,14,0],[7,0,10,15,0,0],[9,10,0,11,2,0],[0,15,11,0,0,6],[14,0,2,0,0,9],[0,0,0,6,9,0]]\n",
    "M1"
   ]
  },
  {
   "cell_type": "code",
   "execution_count": 6,
   "metadata": {},
   "outputs": [
    {
     "name": "stdout",
     "output_type": "stream",
     "text": [
      "Shortest Path: [0, 1, 2, 4, 5]\n",
      "Path Length =  20.0\n"
     ]
    }
   ],
   "source": [
    "dijkstra(M1)"
   ]
  }
 ],
 "metadata": {
  "kernelspec": {
   "display_name": "Python 3",
   "language": "python",
   "name": "python3"
  },
  "language_info": {
   "codemirror_mode": {
    "name": "ipython",
    "version": 3
   },
   "file_extension": ".py",
   "mimetype": "text/x-python",
   "name": "python",
   "nbconvert_exporter": "python",
   "pygments_lexer": "ipython3",
   "version": "3.6.5"
  }
 },
 "nbformat": 4,
 "nbformat_minor": 2
}
