{
 "cells": [
  {
   "cell_type": "code",
   "execution_count": 1,
   "metadata": {},
   "outputs": [],
   "source": [
    "#Reread in all of the data and group by star\n",
    "import gzip \n",
    "with gzip.open('AllVar.phot.gz', 'rt') as f:\n",
    "    temp = f.read()\n",
    "temp2 = temp.split(\"\\n\")\n",
    "del temp2[-1]\n",
    "dataa = [[float(y) for y in x.split(',')] for x in temp2]\n",
    "import itertools\n",
    "import numpy as np \n",
    "groups = itertools.groupby(dataa, lambda x: x[0])\n",
    "grouped_data = [list(g) for k,g in groups]\n",
    "\n",
    "#Get the maximum size of a time-series\n",
    "lengths = [len(list(zip(*a))[2]) for a in grouped_data]\n",
    "l_pad = max(lengths)"
   ]
  },
  {
   "cell_type": "code",
   "execution_count": 2,
   "metadata": {},
   "outputs": [],
   "source": [
    "#Allocate space for both the padded time series and the length of the unpadded features (will be used later for RNN)\n",
    "feat_pad = np.empty((len(grouped_data),l_pad,2))\n",
    "feat_len = np.empty(len(grouped_data))\n",
    "i = 0"
   ]
  },
  {
   "cell_type": "code",
   "execution_count": 3,
   "metadata": {},
   "outputs": [],
   "source": [
    "#Iterate through all stars and pad with zeros\n",
    "for a in grouped_data:\n",
    "    tmp = np.array(sorted(zip(list(zip(*a))[1],list(zip(*a))[2]))) \n",
    "    tmp = np.column_stack((np.diff(tmp[:,0], prepend=tmp[0,0]),tmp[:,1]))\n",
    "    feat_pad[i,0:tmp.shape[0],:] = tmp\n",
    "    feat_len[i] = tmp.shape[0]\n",
    "    i += 1"
   ]
  },
  {
   "cell_type": "code",
   "execution_count": 20,
   "metadata": {},
   "outputs": [],
   "source": [
    "#SDAE from https://github.com/rajarsheem/libsdae-autoencoder-tensorflow/blob/master/deepautoencoder/stacked_autoencoder.py"
   ]
  },
  {
   "cell_type": "code",
   "execution_count": 4,
   "metadata": {
    "scrolled": true
   },
   "outputs": [],
   "source": [
    "import tensorflow as tf"
   ]
  },
  {
   "cell_type": "code",
   "execution_count": 6,
   "metadata": {},
   "outputs": [],
   "source": [
    "truth = np.load(\"true_labels.npy\")\n",
    "labels = np.zeros((truth.size, truth.max()))\n",
    "labels[np.arange(truth.size),truth-1] = 1\n",
    "# Training Parameters\n",
    "learning_rate = 0.0025\n",
    "epochs = 10\n",
    "batch_size = 128\n",
    "display_step = 1\n",
    "\n",
    "# Network Parameters\n",
    "num_input = 2 \n",
    "timesteps = l_pad \n",
    "num_hidden = 59 # hidden layer num of features\n",
    "num_classes = labels.shape[1] \n",
    "\n",
    "# tf Graph input\n",
    "X = tf.placeholder(\"float\", [None, timesteps, num_input])\n",
    "Y = tf.placeholder(\"float\", [None, num_classes])"
   ]
  },
  {
   "cell_type": "code",
   "execution_count": 1,
   "metadata": {},
   "outputs": [
    {
     "ename": "NameError",
     "evalue": "name 'tf' is not defined",
     "output_type": "error",
     "traceback": [
      "\u001b[1;31m---------------------------------------------------------------------------\u001b[0m",
      "\u001b[1;31mNameError\u001b[0m                                 Traceback (most recent call last)",
      "\u001b[1;32m<ipython-input-1-1dbd7614f0d2>\u001b[0m in \u001b[0;36m<module>\u001b[1;34m\u001b[0m\n\u001b[0;32m      1\u001b[0m weights = {\n\u001b[0;32m      2\u001b[0m     \u001b[1;31m# Hidden layer weights => 2*n_hidden because of forward + backward cells\u001b[0m\u001b[1;33m\u001b[0m\u001b[1;33m\u001b[0m\u001b[1;33m\u001b[0m\u001b[0m\n\u001b[1;32m----> 3\u001b[1;33m     \u001b[1;34m'out'\u001b[0m\u001b[1;33m:\u001b[0m \u001b[0mtf\u001b[0m\u001b[1;33m.\u001b[0m\u001b[0mVariable\u001b[0m\u001b[1;33m(\u001b[0m\u001b[0mtf\u001b[0m\u001b[1;33m.\u001b[0m\u001b[0mrandom_normal\u001b[0m\u001b[1;33m(\u001b[0m\u001b[1;33m[\u001b[0m\u001b[0mnum_hidden\u001b[0m\u001b[1;33m,\u001b[0m \u001b[0mnum_classes\u001b[0m\u001b[1;33m]\u001b[0m\u001b[1;33m)\u001b[0m\u001b[1;33m)\u001b[0m\u001b[1;33m\u001b[0m\u001b[1;33m\u001b[0m\u001b[0m\n\u001b[0m\u001b[0;32m      4\u001b[0m }\n\u001b[0;32m      5\u001b[0m biases = {\n",
      "\u001b[1;31mNameError\u001b[0m: name 'tf' is not defined"
     ]
    }
   ],
   "source": [
    "weights = {\n",
    "    'out': tf.Variable(tf.random_normal([num_hidden, num_classes]))\n",
    "}\n",
    "biases = {\n",
    "    'out': tf.Variable(tf.random_normal([num_classes]))\n",
    "}\n",
    "\n",
    "def RNN(x, weights, biases):\n",
    "\n",
    "    # Prepare data shape to match `rnn` function requirements\n",
    "    # Current data input shape: (batch_size, timesteps, n_input)\n",
    "    # Required shape: 'timesteps' tensors list of shape (batch_size, n_input)\n",
    "\n",
    "    # Unstack to get a list of 'timesteps' tensors of shape (batch_size, n_input)\n",
    "    x = tf.unstack(x, timesteps, 1)\n",
    "\n",
    "    # Define 2 lstm cells with tensorflow\n",
    "    nh = [num_hidden, num_hidden]\n",
    "    cells = [tf.nn.rnn_cell.LSTMCell(num_hidden) for n in nh]\n",
    "    lstm_cell = tf.nn.rnn_cell.MultiRNNCell(cells)\n",
    "    #lstm_cell = tf.nn.rnn_cell.LSTMCell(num_hidden, forget_bias=1.0)\n",
    "\n",
    "    # Get lstm cell output\n",
    "    outputs, states = tf.nn.static_rnn(lstm_cell, x, dtype=tf.float32)\n",
    "\n",
    "    # Linear activation, using rnn inner loop last output\n",
    "    return tf.matmul(outputs[-1], weights['out']) + biases['out']"
   ]
  },
  {
   "cell_type": "code",
   "execution_count": 13,
   "metadata": {},
   "outputs": [
    {
     "name": "stdout",
     "output_type": "stream",
     "text": [
      "WARNING:tensorflow:From <ipython-input-12-ea4cc8d777b9>:21: MultiRNNCell.__init__ (from tensorflow.python.ops.rnn_cell_impl) is deprecated and will be removed in a future version.\n",
      "Instructions for updating:\n",
      "This class is equivalent as tf.keras.layers.StackedRNNCells, and will be replaced by that in Tensorflow 2.0.\n"
     ]
    }
   ],
   "source": [
    "logits = RNN(X, weights, biases)\n",
    "prediction = tf.nn.softmax(logits)\n",
    "\n",
    "# Define loss and optimizer\n",
    "loss_op = tf.reduce_mean(tf.nn.softmax_cross_entropy_with_logits_v2(\n",
    "    logits=logits, labels=Y))\n",
    "optimizer = tf.train.GradientDescentOptimizer(learning_rate=learning_rate)\n",
    "train_op = optimizer.minimize(loss_op)\n",
    "\n",
    "# Evaluate model (with test logits, for dropout to be disabled)\n",
    "correct_pred = tf.equal(tf.argmax(prediction, 1), tf.argmax(Y, 1))\n",
    "accuracy = tf.reduce_mean(tf.cast(correct_pred, tf.float32))\n",
    "\n",
    "# Initialize the variables (i.e. assign their default value)\n",
    "init = tf.global_variables_initializer()"
   ]
  },
  {
   "cell_type": "code",
   "execution_count": null,
   "metadata": {},
   "outputs": [],
   "source": [
    "# Start training\n",
    "with tf.Session() as sess:\n",
    "\n",
    "    # Run the initializer\n",
    "    sess.run(init)\n",
    "    ind = np.arange(feat_pad.shape[0])\n",
    "    for step in range(0, epochs):\n",
    "        np.random.shuffle(ind)\n",
    "        for i in range(0, feat_pad.shape[0], batch_size):\n",
    "            batch_x = feat_pad[ind[i:i+batch_size],:,:]\n",
    "            batch_y = labels[ind[i:i+batch_size],:]\n",
    "        # Run optimization op (backprop)\n",
    "            sess.run(train_op, feed_dict={X: batch_x, Y: batch_y})\n",
    "        if step % display_step == 0 or step == 1:\n",
    "            # Calculate batch loss and accuracy\n",
    "            #loss, acc = sess.run([loss_op, accuracy], feed_dict={X: feat_pad,\n",
    "            #                                                     Y: labels})\n",
    "            #print(\"Step \" + str(step) + \", Minibatch Loss= \" + \\\n",
    "            #      \"{:.4f}\".format(loss) + \", Training Accuracy= \" + \\\n",
    "            #      \"{:.3f}\".format(acc)).\n",
    "            print(\"Epoch\" + str(step))\n",
    "\n",
    "    loss, acc = sess.run([loss_op, accuracy], feed_dict={X: feat_pad,Y: labels})\n",
    "    print(\"Accuracy =\" + \"{:.3f}\".format(acc))\n",
    "    print(\"Optimization Finished!\")"
   ]
  },
  {
   "cell_type": "code",
   "execution_count": null,
   "metadata": {},
   "outputs": [],
   "source": []
  },
  {
   "cell_type": "code",
   "execution_count": 138,
   "metadata": {},
   "outputs": [],
   "source": []
  },
  {
   "cell_type": "code",
   "execution_count": null,
   "metadata": {},
   "outputs": [],
   "source": []
  }
 ],
 "metadata": {
  "kernelspec": {
   "display_name": "Python 3",
   "language": "python",
   "name": "python3"
  },
  "language_info": {
   "codemirror_mode": {
    "name": "ipython",
    "version": 3
   },
   "file_extension": ".py",
   "mimetype": "text/x-python",
   "name": "python",
   "nbconvert_exporter": "python",
   "pygments_lexer": "ipython3",
   "version": "3.7.3"
  }
 },
 "nbformat": 4,
 "nbformat_minor": 2
}
