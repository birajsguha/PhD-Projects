{
 "cells": [
  {
   "cell_type": "code",
   "execution_count": 97,
   "metadata": {},
   "outputs": [],
   "source": [
    "#Reread in all of the data and group by star\n",
    "import gzip \n",
    "with gzip.open('AllVar.phot.gz', 'rt') as f:\n",
    "    temp = f.read()\n",
    "temp2 = temp.split(\"\\n\")\n",
    "del temp2[-1]\n",
    "dataa = [[float(y) for y in x.split(',')] for x in temp2]\n",
    "import itertools\n",
    "import numpy as np \n",
    "groups = itertools.groupby(dataa, lambda x: x[0])\n",
    "grouped_data = [list(g) for k,g in groups]\n",
    "\n",
    "#Get the maximum size of a time-series\n",
    "lengths = [len(list(zip(*a))[2]) for a in grouped_data]\n",
    "l_pad = max(lengths)"
   ]
  },
  {
   "cell_type": "code",
   "execution_count": 98,
   "metadata": {},
   "outputs": [],
   "source": [
    "#Allocate space for both the padded time series and the length of the unpadded features (will be used later for RNN)\n",
    "feat_pad = np.empty((len(grouped_data),l_pad,2))\n",
    "feat_len = np.empty(len(grouped_data))\n",
    "i = 0"
   ]
  },
  {
   "cell_type": "code",
   "execution_count": 99,
   "metadata": {},
   "outputs": [],
   "source": [
    "#Iterate through all stars and pad with zeros\n",
    "for a in grouped_data:\n",
    "    tmp = np.array(sorted(zip(list(zip(*a))[1],list(zip(*a))[2]))) \n",
    "    tmp = np.column_stack((np.diff(tmp[:,0], prepend=tmp[0,0]),tmp[:,1]))\n",
    "    feat_pad[i,0:tmp.shape[0],:] = tmp\n",
    "    feat_len[i] = tmp.shape[0]\n",
    "    i += 1"
   ]
  },
  {
   "cell_type": "code",
   "execution_count": 100,
   "metadata": {},
   "outputs": [],
   "source": [
    "import tensorflow as tf"
   ]
  },
  {
   "cell_type": "code",
   "execution_count": 101,
   "metadata": {},
   "outputs": [],
   "source": [
    "truth = np.load(\"true_labels.npy\")\n",
    "labels = np.zeros((truth.size, truth.max()))\n",
    "labels[np.arange(truth.size),truth-1] = 1\n",
    "# Training Parameters\n",
    "learning_rate = 0.0025\n",
    "epochs = 25\n",
    "batch_size = 128\n",
    "display_step = 1\n",
    "\n",
    "# Network Parameters\n",
    "num_input = 2 \n",
    "timesteps = l_pad \n",
    "num_hidden = 5 # hidden layer num of features\n",
    "num_classes = labels.shape[1]\n",
    "tf.reset_default_graph()\n",
    "# tf Graph input\n",
    "X = tf.placeholder(\"float\", [None, timesteps, num_input])\n",
    "Y = tf.placeholder(\"float\", [None, num_classes])\n",
    "X_lengths = tf.placeholder(tf.int32, [None])"
   ]
  },
  {
   "cell_type": "code",
   "execution_count": 102,
   "metadata": {},
   "outputs": [],
   "source": [
    "weights = {\n",
    "    # Hidden layer weights => 2*n_hidden because of forward + backward cells\n",
    "    'out': tf.Variable(tf.random_normal([l_pad, num_classes]))\n",
    "}\n",
    "biases = {\n",
    "    'out': tf.Variable(tf.random_normal([num_classes]))\n",
    "}\n",
    "\n",
    "def RNN(x, lengths, weights, biases):\n",
    "\n",
    "    # Define a lstm cell with tensorflow\n",
    "    lstm_cell = tf.nn.rnn_cell.LSTMCell(num_hidden, forget_bias=1.0)\n",
    "\n",
    "    # Get lstm cell output\n",
    "    outputs, states = tf.nn.dynamic_rnn(lstm_cell, x, sequence_length=lengths, dtype=tf.float32)\n",
    "    # Linear activation, using rnn inner loop last output\n",
    "    return tf.matmul(outputs[:,:,-1], weights['out']) + biases['out']"
   ]
  },
  {
   "cell_type": "code",
   "execution_count": 103,
   "metadata": {},
   "outputs": [],
   "source": [
    "logits = RNN(X, X_lengths, weights, biases)\n",
    "prediction = tf.nn.softmax(logits)\n",
    "\n",
    "# Define loss and optimizer\n",
    "loss_op = tf.reduce_mean(tf.nn.softmax_cross_entropy_with_logits_v2(\n",
    "    logits=logits, labels=Y))\n",
    "optimizer = tf.train.GradientDescentOptimizer(learning_rate=learning_rate)\n",
    "train_op = optimizer.minimize(loss_op)\n",
    "\n",
    "# Evaluate model (with test logits, for dropout to be disabled)\n",
    "correct_pred = tf.equal(tf.argmax(prediction, 1), tf.argmax(Y, 1))\n",
    "accuracy = tf.reduce_mean(tf.cast(correct_pred, tf.float32))\n",
    "\n",
    "# Initialize the variables (i.e. assign their default value)\n",
    "init = tf.global_variables_initializer()"
   ]
  },
  {
   "cell_type": "code",
   "execution_count": 104,
   "metadata": {},
   "outputs": [
    {
     "name": "stdout",
     "output_type": "stream",
     "text": [
      "Epoch0\n",
      "Epoch1\n",
      "Epoch2\n",
      "Epoch3\n",
      "Epoch4\n",
      "Epoch5\n",
      "Epoch6\n",
      "Epoch7\n",
      "Epoch8\n",
      "Epoch9\n",
      "Epoch10\n",
      "Epoch11\n",
      "Epoch12\n",
      "Epoch13\n",
      "Epoch14\n",
      "Epoch15\n",
      "Epoch16\n",
      "Epoch17\n",
      "Epoch18\n",
      "Epoch19\n",
      "Epoch20\n",
      "Epoch21\n",
      "Epoch22\n",
      "Epoch23\n",
      "Epoch24\n",
      "Accuracy =0.653\n",
      "Optimization Finished!\n"
     ]
    }
   ],
   "source": [
    "# Start training\n",
    "with tf.Session() as sess:\n",
    "\n",
    "    # Run the initializer\n",
    "    sess.run(init)\n",
    "    ind = np.arange(feat_pad.shape[0])\n",
    "    for step in range(0, epochs):\n",
    "        np.random.shuffle(ind)\n",
    "        for i in range(0, feat_pad.shape[0], batch_size):\n",
    "            batch_x = feat_pad[ind[i:i+batch_size],:,:]\n",
    "            batch_y = labels[ind[i:i+batch_size],:]\n",
    "            batchl = feat_len[ind[i:i+batch_size]]\n",
    "        # Run optimization op (backprop)\n",
    "            sess.run(train_op, feed_dict={X: batch_x, Y: batch_y, X_lengths: batchl})\n",
    "        if step % display_step == 0 or step == 1:\n",
    "            # Calculate batch loss and accuracy\n",
    "            #loss, acc = sess.run([loss_op, accuracy], feed_dict={X: feat_pad,\n",
    "            #                                                     Y: labels})\n",
    "            #print(\"Step \" + str(step) + \", Minibatch Loss= \" + \\\n",
    "            #      \"{:.4f}\".format(loss) + \", Training Accuracy= \" + \\\n",
    "            #      \"{:.3f}\".format(acc)).\n",
    "            print(\"Epoch\" + str(step))\n",
    "\n",
    "    loss, acc = sess.run([loss_op, accuracy], feed_dict={X: feat_pad,Y: labels, X_lengths: feat_len})\n",
    "    print(\"Accuracy =\" + \"{:.3f}\".format(acc))\n",
    "    print(\"Optimization Finished!\")"
   ]
  },
  {
   "cell_type": "code",
   "execution_count": null,
   "metadata": {},
   "outputs": [],
   "source": []
  }
 ],
 "metadata": {
  "kernelspec": {
   "display_name": "Python 3",
   "language": "python",
   "name": "python3"
  },
  "language_info": {
   "codemirror_mode": {
    "name": "ipython",
    "version": 3
   },
   "file_extension": ".py",
   "mimetype": "text/x-python",
   "name": "python",
   "nbconvert_exporter": "python",
   "pygments_lexer": "ipython3",
   "version": "3.7.3"
  }
 },
 "nbformat": 4,
 "nbformat_minor": 2
}
